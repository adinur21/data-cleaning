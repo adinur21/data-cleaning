{
 "cells": [
  {
   "cell_type": "code",
   "execution_count": 3,
   "metadata": {},
   "outputs": [],
   "source": [
    "#import library\n",
    "\n",
    "import numpy as np #linier algebra\n",
    "import pandas as pd #data processig, CSV file I/O\n",
    "import matplotlib.pyplot as plt\n",
    "import seaborn as sns #data vizualisation\n",
    "\n",
    "#to set backend of matplotlib to inline view visaul\n",
    "%matplotlib inline\n"
   ]
  },
  {
   "cell_type": "code",
   "execution_count": 4,
   "metadata": {},
   "outputs": [],
   "source": [
    "df = pd.read_csv('G:\\Kulian UIN\\Intelijen Bisnis - Gunawan Budi Prasetyo\\Materi\\BreadBasket_DMS.csv')"
   ]
  },
  {
   "cell_type": "code",
   "execution_count": 5,
   "metadata": {},
   "outputs": [
    {
     "data": {
      "text/html": [
       "<div>\n",
       "<style scoped>\n",
       "    .dataframe tbody tr th:only-of-type {\n",
       "        vertical-align: middle;\n",
       "    }\n",
       "\n",
       "    .dataframe tbody tr th {\n",
       "        vertical-align: top;\n",
       "    }\n",
       "\n",
       "    .dataframe thead th {\n",
       "        text-align: right;\n",
       "    }\n",
       "</style>\n",
       "<table border=\"1\" class=\"dataframe\">\n",
       "  <thead>\n",
       "    <tr style=\"text-align: right;\">\n",
       "      <th></th>\n",
       "      <th>Date</th>\n",
       "      <th>Time</th>\n",
       "      <th>Transaction</th>\n",
       "      <th>Item</th>\n",
       "    </tr>\n",
       "  </thead>\n",
       "  <tbody>\n",
       "    <tr>\n",
       "      <th>0</th>\n",
       "      <td>2016-10-30</td>\n",
       "      <td>09:58:11</td>\n",
       "      <td>1</td>\n",
       "      <td>Bread</td>\n",
       "    </tr>\n",
       "    <tr>\n",
       "      <th>1</th>\n",
       "      <td>2016-10-30</td>\n",
       "      <td>10:05:34</td>\n",
       "      <td>2</td>\n",
       "      <td>Scandinavian</td>\n",
       "    </tr>\n",
       "    <tr>\n",
       "      <th>2</th>\n",
       "      <td>2016-10-30</td>\n",
       "      <td>10:05:34</td>\n",
       "      <td>2</td>\n",
       "      <td>Scandinavian</td>\n",
       "    </tr>\n",
       "  </tbody>\n",
       "</table>\n",
       "</div>"
      ],
      "text/plain": [
       "         Date      Time  Transaction          Item\n",
       "0  2016-10-30  09:58:11            1         Bread\n",
       "1  2016-10-30  10:05:34            2  Scandinavian\n",
       "2  2016-10-30  10:05:34            2  Scandinavian"
      ]
     },
     "execution_count": 5,
     "metadata": {},
     "output_type": "execute_result"
    }
   ],
   "source": [
    "#dataset overview\n",
    "df.head(3)"
   ]
  },
  {
   "cell_type": "code",
   "execution_count": 6,
   "metadata": {},
   "outputs": [
    {
     "name": "stdout",
     "output_type": "stream",
     "text": [
      "<class 'pandas.core.frame.DataFrame'>\n",
      "RangeIndex: 21293 entries, 0 to 21292\n",
      "Data columns (total 4 columns):\n",
      "Date           21293 non-null object\n",
      "Time           21293 non-null object\n",
      "Transaction    21293 non-null int64\n",
      "Item           21293 non-null object\n",
      "dtypes: int64(1), object(3)\n",
      "memory usage: 665.5+ KB\n"
     ]
    }
   ],
   "source": [
    "df.info()"
   ]
  },
  {
   "cell_type": "code",
   "execution_count": 7,
   "metadata": {},
   "outputs": [
    {
     "name": "stdout",
     "output_type": "stream",
     "text": [
      "Number of unique item: 95\n"
     ]
    },
    {
     "data": {
      "text/plain": [
       "95"
      ]
     },
     "execution_count": 7,
     "metadata": {},
     "output_type": "execute_result"
    }
   ],
   "source": [
    "#Explore dataset\n",
    "print(\"Number of unique item:\", df.Item.nunique())\n",
    "\n",
    "#or\n",
    "len(df['Item'].unique())"
   ]
  },
  {
   "cell_type": "code",
   "execution_count": 8,
   "metadata": {},
   "outputs": [
    {
     "data": {
      "text/plain": [
       "0                                Bread\n",
       "1                         Scandinavian\n",
       "3                        Hot chocolate\n",
       "4                                  Jam\n",
       "5                              Cookies\n",
       "6                               Muffin\n",
       "7                               Coffee\n",
       "8                               Pastry\n",
       "10                           Medialuna\n",
       "16                                 Tea\n",
       "26                                NONE\n",
       "29                             Tartine\n",
       "32                              Basket\n",
       "40                       Mineral water\n",
       "46                          Farm House\n",
       "60                               Fudge\n",
       "84                               Juice\n",
       "100             Ella's Kitchen Pouches\n",
       "110                   Victorian Sponge\n",
       "114                           Frittata\n",
       "117                  Hearty & Seasonal\n",
       "124                               Soup\n",
       "132                 Pick and Mix Bowls\n",
       "136                          Smoothies\n",
       "139                               Cake\n",
       "142                     Mighty Protein\n",
       "156                       Chicken sand\n",
       "204                               Coke\n",
       "259                   My-5 Fruit Shoot\n",
       "324                           Focaccia\n",
       "                     ...              \n",
       "6739                            Muesli\n",
       "7030                            Crisps\n",
       "7047                           Pintxos\n",
       "7474                 Gingerbread syrup\n",
       "7603                          Panatone\n",
       "7772                Brioche and salami\n",
       "8918          Afternoon with the baker\n",
       "9638                             Salad\n",
       "10182                     Chicken Stew\n",
       "10290                   Spanish Brunch\n",
       "10533    Raspberry shortbread sandwich\n",
       "10692             Extra Salami or Feta\n",
       "10698                         Duck egg\n",
       "11158                         Baguette\n",
       "11666                 Valentine's card\n",
       "12701                           Tshirt\n",
       "12718                      Vegan Feast\n",
       "12720                         Postcard\n",
       "12749                        Nomad bag\n",
       "13128                       Chocolates\n",
       "14899                 Coffee granules \n",
       "16863       Drinking chocolate spoons \n",
       "17142                 Christmas common\n",
       "17507                  Argentina Night\n",
       "17627              Half slice Monster \n",
       "17828                     Gift voucher\n",
       "18035            Cherry me Dried fruit\n",
       "18111                         Mortimer\n",
       "19801                         Raw bars\n",
       "21096                     Tacos/Fajita\n",
       "Name: Item, Length: 95, dtype: object"
      ]
     },
     "execution_count": 8,
     "metadata": {},
     "output_type": "execute_result"
    }
   ],
   "source": [
    "#to get all distinct/unique values, you can use unique or drop_duplicates\n",
    "df.Item.unique()\n",
    "#df['Item'].unique()\n",
    "\n",
    "df.Item.drop_duplicates()"
   ]
  },
  {
   "cell_type": "code",
   "execution_count": 9,
   "metadata": {},
   "outputs": [
    {
     "data": {
      "text/plain": [
       "Coffee                           5471\n",
       "Bread                            3325\n",
       "Tea                              1435\n",
       "Cake                             1025\n",
       "Pastry                            856\n",
       "NONE                              786\n",
       "Sandwich                          771\n",
       "Medialuna                         616\n",
       "Hot chocolate                     590\n",
       "Cookies                           540\n",
       "Brownie                           379\n",
       "Farm House                        374\n",
       "Muffin                            370\n",
       "Juice                             369\n",
       "Alfajores                         369\n",
       "Soup                              342\n",
       "Scone                             327\n",
       "Toast                             318\n",
       "Scandinavian                      277\n",
       "Truffles                          193\n",
       "Coke                              185\n",
       "Spanish Brunch                    172\n",
       "Fudge                             159\n",
       "Baguette                          152\n",
       "Jam                               149\n",
       "Tiffin                            146\n",
       "Mineral water                     136\n",
       "Jammie Dodgers                    125\n",
       "Chicken Stew                      123\n",
       "Hearty & Seasonal                 107\n",
       "                                 ... \n",
       "Victorian Sponge                    7\n",
       "Empanadas                           7\n",
       "Pintxos                             6\n",
       "Basket                              6\n",
       "Half slice Monster                  6\n",
       "Honey                               6\n",
       "Lemon and coconut                   6\n",
       "Crepes                              6\n",
       "Bare Popcorn                        5\n",
       "Panatone                            5\n",
       "Mortimer                            5\n",
       "Bread Pudding                       4\n",
       "Brioche and salami                  3\n",
       "Raspberry shortbread sandwich       3\n",
       "Cherry me Dried fruit               3\n",
       "Caramel bites                       3\n",
       "Siblings                            2\n",
       "Chimichurri Oil                     2\n",
       "Fairy Doors                         2\n",
       "Bowl Nic Pitt                       2\n",
       "Hack the stack                      2\n",
       "Spread                              2\n",
       "Gift voucher                        1\n",
       "Adjustment                          1\n",
       "Polenta                             1\n",
       "Raw bars                            1\n",
       "Bacon                               1\n",
       "Chicken sand                        1\n",
       "Olum & polenta                      1\n",
       "The BART                            1\n",
       "Name: Item, Length: 95, dtype: int64"
      ]
     },
     "execution_count": 9,
     "metadata": {},
     "output_type": "execute_result"
    }
   ],
   "source": [
    "#to get the total count of each unique value in a column\n",
    "df.Item.value_counts()"
   ]
  },
  {
   "cell_type": "code",
   "execution_count": 10,
   "metadata": {},
   "outputs": [
    {
     "data": {
      "text/plain": [
       "Coffee           5471\n",
       "Bread            3325\n",
       "Tea              1435\n",
       "Cake             1025\n",
       "Pastry            856\n",
       "NONE              786\n",
       "Sandwich          771\n",
       "Medialuna         616\n",
       "Hot chocolate     590\n",
       "Cookies           540\n",
       "Name: Item, dtype: int64"
      ]
     },
     "execution_count": 10,
     "metadata": {},
     "output_type": "execute_result"
    }
   ],
   "source": [
    "#from list of value_counts() above, take top 10 item using head()\n",
    "topten = df.Item.value_counts()\n",
    "topten.head(10)"
   ]
  },
  {
   "cell_type": "code",
   "execution_count": 11,
   "metadata": {},
   "outputs": [
    {
     "name": "stdout",
     "output_type": "stream",
     "text": [
      "<class 'pandas.core.frame.DataFrame'>\n",
      "Int64Index: 20507 entries, 0 to 21292\n",
      "Data columns (total 4 columns):\n",
      "Date           20507 non-null object\n",
      "Time           20507 non-null object\n",
      "Transaction    20507 non-null int64\n",
      "Item           20507 non-null object\n",
      "dtypes: int64(1), object(3)\n",
      "memory usage: 801.1+ KB\n"
     ]
    }
   ],
   "source": [
    "#we can see that there's an item listed as 'NONE' and is counted 786\n",
    "#lets drop/remove it first\n",
    "\n",
    "df = df[df['Item'] != 'NONE']\n",
    "df.info()"
   ]
  },
  {
   "cell_type": "code",
   "execution_count": 12,
   "metadata": {},
   "outputs": [
    {
     "data": {
      "text/plain": [
       "<matplotlib.legend.Legend at 0x1cd0047c358>"
      ]
     },
     "execution_count": 12,
     "metadata": {},
     "output_type": "execute_result"
    },
    {
     "data": {
      "image/png": "[encoded data removed]",
      "text/plain": [
       "<Figure size 432x288 with 1 Axes>"
      ]
     },
     "metadata": {},
     "output_type": "display_data"
    }
   ],
   "source": [
    "item_sales = df.Item.value_counts()\n",
    "topten = item_sales[:10]\n",
    "topten\n",
    "\n",
    "#visualize it using chart\n",
    "sns.set(style= 'darkgrid')\n",
    "toptenbar = topten.plot.bar(title = 'Top 10 chart')\n",
    "toptenbar.legend(['Number of item sold'])"
   ]
  },
  {
   "cell_type": "code",
   "execution_count": 13,
   "metadata": {},
   "outputs": [
    {
     "name": "stderr",
     "output_type": "stream",
     "text": [
      "C:\\Users\\adinu\\Anaconda3\\lib\\site-packages\\ipykernel_launcher.py:4: SettingWithCopyWarning: \n",
      "A value is trying to be set on a copy of a slice from a DataFrame.\n",
      "Try using .loc[row_indexer,col_indexer] = value instead\n",
      "\n",
      "See the caveats in the documentation: http://pandas.pydata.org/pandas-docs/stable/indexing.html#indexing-view-versus-copy\n",
      "  after removing the cwd from sys.path.\n"
     ]
    },
    {
     "data": {
      "text/html": [
       "<div>\n",
       "<style scoped>\n",
       "    .dataframe tbody tr th:only-of-type {\n",
       "        vertical-align: middle;\n",
       "    }\n",
       "\n",
       "    .dataframe tbody tr th {\n",
       "        vertical-align: top;\n",
       "    }\n",
       "\n",
       "    .dataframe thead th {\n",
       "        text-align: right;\n",
       "    }\n",
       "</style>\n",
       "<table border=\"1\" class=\"dataframe\">\n",
       "  <thead>\n",
       "    <tr style=\"text-align: right;\">\n",
       "      <th></th>\n",
       "      <th>Date</th>\n",
       "      <th>Time</th>\n",
       "      <th>Transaction</th>\n",
       "      <th>Item</th>\n",
       "      <th>Hour</th>\n",
       "    </tr>\n",
       "  </thead>\n",
       "  <tbody>\n",
       "    <tr>\n",
       "      <th>7</th>\n",
       "      <td>2016-10-30</td>\n",
       "      <td>10:13:03</td>\n",
       "      <td>5</td>\n",
       "      <td>Coffee</td>\n",
       "      <td>10</td>\n",
       "    </tr>\n",
       "    <tr>\n",
       "      <th>15</th>\n",
       "      <td>2016-10-30</td>\n",
       "      <td>10:19:12</td>\n",
       "      <td>7</td>\n",
       "      <td>Coffee</td>\n",
       "      <td>10</td>\n",
       "    </tr>\n",
       "    <tr>\n",
       "      <th>28</th>\n",
       "      <td>2016-10-30</td>\n",
       "      <td>10:30:14</td>\n",
       "      <td>12</td>\n",
       "      <td>Coffee</td>\n",
       "      <td>10</td>\n",
       "    </tr>\n",
       "    <tr>\n",
       "      <th>34</th>\n",
       "      <td>2016-10-30</td>\n",
       "      <td>10:31:24</td>\n",
       "      <td>13</td>\n",
       "      <td>Coffee</td>\n",
       "      <td>10</td>\n",
       "    </tr>\n",
       "    <tr>\n",
       "      <th>44</th>\n",
       "      <td>2016-10-30</td>\n",
       "      <td>10:37:08</td>\n",
       "      <td>16</td>\n",
       "      <td>Coffee</td>\n",
       "      <td>10</td>\n",
       "    </tr>\n",
       "  </tbody>\n",
       "</table>\n",
       "</div>"
      ],
      "text/plain": [
       "          Date      Time  Transaction    Item  Hour\n",
       "7   2016-10-30  10:13:03            5  Coffee    10\n",
       "15  2016-10-30  10:19:12            7  Coffee    10\n",
       "28  2016-10-30  10:30:14           12  Coffee    10\n",
       "34  2016-10-30  10:31:24           13  Coffee    10\n",
       "44  2016-10-30  10:37:08           16  Coffee    10"
      ]
     },
     "execution_count": 13,
     "metadata": {},
     "output_type": "execute_result"
    }
   ],
   "source": [
    "coffeesales = df[df['Item'] == 'Coffee']\n",
    "coffeesales.head(10)\n",
    "#how is coffe sold during the day\n",
    "coffeesales['Hour'] = df.Time.apply(lambda x: int(x.split(':')[0]))\n",
    "coffeeTime = coffeesales['Hour'].value_counts()\n",
    "coffeeTime = coffeesales['Hour'].value_counts().sort_index()\n",
    "coffeesales.head()"
   ]
  },
  {
   "cell_type": "code",
   "execution_count": 14,
   "metadata": {},
   "outputs": [
    {
     "data": {
      "text/plain": [
       "Text(0, 0.5, 'Number of coffee sold')"
      ]
     },
     "execution_count": 14,
     "metadata": {},
     "output_type": "execute_result"
    },
    {
     "data": {
      "image/png": "[encoded data removed]",
      "text/plain": [
       "<Figure size 432x288 with 1 Axes>"
      ]
     },
     "metadata": {},
     "output_type": "display_data"
    }
   ],
   "source": [
    "#visualiza coffee sales using chart\n",
    "sns.set(style= 'darkgrid')\n",
    "coffeetimebar = coffeeTime.plot.bar(title = 'Coffee sales by hour')\n",
    "coffeetimebar.set_xlabel('Time of day')\n",
    "coffeetimebar.set_ylabel('Number of coffee sold')"
   ]
  }
 ],
 "metadata": {
  "kernelspec": {
   "display_name": "Python 3",
   "language": "python",
   "name": "python3"
  },
  "language_info": {
   "codemirror_mode": {
    "name": "ipython",
    "version": 3
   },
   "file_extension": ".py",
   "mimetype": "text/x-python",
   "name": "python",
   "nbconvert_exporter": "python",
   "pygments_lexer": "ipython3",
   "version": "3.7.3"
  }
 },
 "nbformat": 4,
 "nbformat_minor": 2
}
